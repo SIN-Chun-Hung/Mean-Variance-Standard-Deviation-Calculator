{
 "cells": [
  {
   "cell_type": "code",
   "execution_count": 24,
   "id": "e723ff81",
   "metadata": {},
   "outputs": [],
   "source": [
    "import numpy as np"
   ]
  },
  {
   "cell_type": "code",
   "execution_count": 25,
   "id": "1db6c0c6",
   "metadata": {},
   "outputs": [],
   "source": [
    "def calculate(input_list):    \n",
    "    if type(input_list) != list:\n",
    "        return 'Your input should be a list!'\n",
    "    if len(input_list) != 9:\n",
    "        raise ValueError('List must contain nine numbers.')\n",
    "    \n",
    "    list_to_array = np.array(input_list).reshape((3,3))\n",
    "    \n",
    "    calculator_dict = {\n",
    "        'mean': [np.mean(list_to_array, axis=0).tolist(), np.mean(list_to_array, axis=1).tolist(), np.mean(list_to_array)],\n",
    "        'variance': [np.var(list_to_array, axis=0).tolist(), np.var(list_to_array, axis=1).tolist(), np.var(list_to_array)],\n",
    "        'standard deviation': [np.std(list_to_array, axis=0).tolist(), np.std(list_to_array, axis=1).tolist(), np.std(list_to_array)],\n",
    "        'max': [np.max(list_to_array, axis=0).tolist(), np.max(list_to_array, axis=1).tolist(), np.max(list_to_array)],\n",
    "        'min': [np.min(list_to_array, axis=0).tolist(), np.min(list_to_array, axis=1).tolist(), np.min(list_to_array)], \n",
    "        'sum': [np.sum(list_to_array, axis=0).tolist(), np.sum(list_to_array, axis=1).tolist(), np.sum(list_to_array)]\n",
    "    }\n",
    "    \n",
    "    return calculator_dict"
   ]
  },
  {
   "cell_type": "code",
   "execution_count": 26,
   "id": "e2e7493b",
   "metadata": {},
   "outputs": [
    {
     "data": {
      "text/plain": [
       "{'mean': [[4.0, 5.0, 6.0], [2.0, 5.0, 8.0], 5.0],\n",
       " 'variance': [[6.0, 6.0, 6.0],\n",
       "  [0.6666666666666666, 0.6666666666666666, 0.6666666666666666],\n",
       "  6.666666666666667],\n",
       " 'standard deviation': [[2.449489742783178,\n",
       "   2.449489742783178,\n",
       "   2.449489742783178],\n",
       "  [0.816496580927726, 0.816496580927726, 0.816496580927726],\n",
       "  2.581988897471611],\n",
       " 'max': [[7, 8, 9], [3, 6, 9], 9],\n",
       " 'min': [[1, 2, 3], [1, 4, 7], 1],\n",
       " 'sum': [[12, 15, 18], [6, 15, 24], 45]}"
      ]
     },
     "execution_count": 26,
     "metadata": {},
     "output_type": "execute_result"
    }
   ],
   "source": [
    "calculate([1,2,3,4,5,6,7,8,9])"
   ]
  }
 ],
 "metadata": {
  "kernelspec": {
   "display_name": "Python 3",
   "language": "python",
   "name": "python3"
  },
  "language_info": {
   "codemirror_mode": {
    "name": "ipython",
    "version": 3
   },
   "file_extension": ".py",
   "mimetype": "text/x-python",
   "name": "python",
   "nbconvert_exporter": "python",
   "pygments_lexer": "ipython3",
   "version": "3.8.8"
  }
 },
 "nbformat": 4,
 "nbformat_minor": 5
}
